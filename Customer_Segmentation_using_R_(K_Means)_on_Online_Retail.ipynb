{
  "nbformat": 4,
  "nbformat_minor": 0,
  "metadata": {
    "colab": {
      "provenance": []
    },
    "kernelspec": {
      "name": "ir",
      "display_name": "R"
    },
    "language_info": {
      "name": "R"
    }
  },
  "cells": [
    {
      "cell_type": "markdown",
      "source": [
        "***Customer Segmentation using R (K-Means) on Online Retail***"
      ],
      "metadata": {
        "id": "Q1tNf_HvUTUk"
      }
    },
    {
      "cell_type": "markdown",
      "source": [
        "This project leverages the power of R programming and the K-Means clustering algorithm to analyze online retail transaction data, uncovering distinct customer segments based on their purchasing behavior. By applying data preprocessing, feature engineering (including RFM analysis), and unsupervised machine learning techniques, this initiative aims to provide actionable insights into customer groups, enabling targeted marketing strategies and enhanced customer relationship management. The findings from this segmentation can inform business decisions related to product recommendations, promotional offers, and overall customer engagement."
      ],
      "metadata": {
        "id": "d4L9vT1PUfLu"
      }
    },
    {
      "cell_type": "markdown",
      "source": [
        "Contribution - Individual\n"
      ],
      "metadata": {
        "id": "NN_LFAFzU2Ps"
      }
    },
    {
      "cell_type": "markdown",
      "source": [
        "Github link-https://github.com/Vaishnavi24-commits/Customer-Segmentation-using-R-K-Means-on-Online-Retail"
      ],
      "metadata": {
        "id": "RwHICXehU7Hm"
      }
    },
    {
      "cell_type": "markdown",
      "source": [
        " Install and load necessary libraries"
      ],
      "metadata": {
        "id": "u2tHaGq2Rd6m"
      }
    },
    {
      "cell_type": "code",
      "execution_count": 10,
      "metadata": {
        "id": "U63rNhlrP03j"
      },
      "outputs": [],
      "source": [
        "library(readxl)\n",
        "library(dplyr)\n",
        "library(tidyr)\n",
        "library(purrr)"
      ]
    },
    {
      "cell_type": "markdown",
      "source": [
        "Load the Online Retail dataset"
      ],
      "metadata": {
        "id": "6KgNPd2ORjCq"
      }
    },
    {
      "cell_type": "code",
      "source": [
        "online_retail <- read_excel(\"/content/Online Retail.xlsx\")"
      ],
      "metadata": {
        "id": "8wJJW9XJRmbb"
      },
      "execution_count": 2,
      "outputs": []
    },
    {
      "cell_type": "markdown",
      "source": [
        "Data Exploration"
      ],
      "metadata": {
        "id": "f3JKm0R9RyzE"
      }
    },
    {
      "cell_type": "code",
      "source": [
        "head(online_retail)\n",
        "str(online_retail)\n",
        "summary(online_retail)\n",
        "# Check for missing values\n",
        "sum(is.na(online_retail))"
      ],
      "metadata": {
        "colab": {
          "base_uri": "https://localhost:8080/",
          "height": 876
        },
        "id": "YCJqHi4wRzlC",
        "outputId": "fc0f49a6-f778-49ba-853b-fadf2a2a128d"
      },
      "execution_count": 3,
      "outputs": [
        {
          "output_type": "display_data",
          "data": {
            "text/html": [
              "<table class=\"dataframe\">\n",
              "<caption>A tibble: 6 × 8</caption>\n",
              "<thead>\n",
              "\t<tr><th scope=col>InvoiceNo</th><th scope=col>StockCode</th><th scope=col>Description</th><th scope=col>Quantity</th><th scope=col>InvoiceDate</th><th scope=col>UnitPrice</th><th scope=col>CustomerID</th><th scope=col>Country</th></tr>\n",
              "\t<tr><th scope=col>&lt;chr&gt;</th><th scope=col>&lt;chr&gt;</th><th scope=col>&lt;chr&gt;</th><th scope=col>&lt;dbl&gt;</th><th scope=col>&lt;dttm&gt;</th><th scope=col>&lt;dbl&gt;</th><th scope=col>&lt;dbl&gt;</th><th scope=col>&lt;chr&gt;</th></tr>\n",
              "</thead>\n",
              "<tbody>\n",
              "\t<tr><td>536365</td><td>85123A</td><td>WHITE HANGING HEART T-LIGHT HOLDER </td><td>6</td><td>2010-12-01 08:26:00</td><td>2.55</td><td>17850</td><td>United Kingdom</td></tr>\n",
              "\t<tr><td>536365</td><td>71053 </td><td>WHITE METAL LANTERN                </td><td>6</td><td>2010-12-01 08:26:00</td><td>3.39</td><td>17850</td><td>United Kingdom</td></tr>\n",
              "\t<tr><td>536365</td><td>84406B</td><td>CREAM CUPID HEARTS COAT HANGER     </td><td>8</td><td>2010-12-01 08:26:00</td><td>2.75</td><td>17850</td><td>United Kingdom</td></tr>\n",
              "\t<tr><td>536365</td><td>84029G</td><td>KNITTED UNION FLAG HOT WATER BOTTLE</td><td>6</td><td>2010-12-01 08:26:00</td><td>3.39</td><td>17850</td><td>United Kingdom</td></tr>\n",
              "\t<tr><td>536365</td><td>84029E</td><td>RED WOOLLY HOTTIE WHITE HEART.     </td><td>6</td><td>2010-12-01 08:26:00</td><td>3.39</td><td>17850</td><td>United Kingdom</td></tr>\n",
              "\t<tr><td>536365</td><td>22752 </td><td>SET 7 BABUSHKA NESTING BOXES       </td><td>2</td><td>2010-12-01 08:26:00</td><td>7.65</td><td>17850</td><td>United Kingdom</td></tr>\n",
              "</tbody>\n",
              "</table>\n"
            ],
            "text/markdown": "\nA tibble: 6 × 8\n\n| InvoiceNo &lt;chr&gt; | StockCode &lt;chr&gt; | Description &lt;chr&gt; | Quantity &lt;dbl&gt; | InvoiceDate &lt;dttm&gt; | UnitPrice &lt;dbl&gt; | CustomerID &lt;dbl&gt; | Country &lt;chr&gt; |\n|---|---|---|---|---|---|---|---|\n| 536365 | 85123A | WHITE HANGING HEART T-LIGHT HOLDER  | 6 | 2010-12-01 08:26:00 | 2.55 | 17850 | United Kingdom |\n| 536365 | 71053  | WHITE METAL LANTERN                 | 6 | 2010-12-01 08:26:00 | 3.39 | 17850 | United Kingdom |\n| 536365 | 84406B | CREAM CUPID HEARTS COAT HANGER      | 8 | 2010-12-01 08:26:00 | 2.75 | 17850 | United Kingdom |\n| 536365 | 84029G | KNITTED UNION FLAG HOT WATER BOTTLE | 6 | 2010-12-01 08:26:00 | 3.39 | 17850 | United Kingdom |\n| 536365 | 84029E | RED WOOLLY HOTTIE WHITE HEART.      | 6 | 2010-12-01 08:26:00 | 3.39 | 17850 | United Kingdom |\n| 536365 | 22752  | SET 7 BABUSHKA NESTING BOXES        | 2 | 2010-12-01 08:26:00 | 7.65 | 17850 | United Kingdom |\n\n",
            "text/latex": "A tibble: 6 × 8\n\\begin{tabular}{llllllll}\n InvoiceNo & StockCode & Description & Quantity & InvoiceDate & UnitPrice & CustomerID & Country\\\\\n <chr> & <chr> & <chr> & <dbl> & <dttm> & <dbl> & <dbl> & <chr>\\\\\n\\hline\n\t 536365 & 85123A & WHITE HANGING HEART T-LIGHT HOLDER  & 6 & 2010-12-01 08:26:00 & 2.55 & 17850 & United Kingdom\\\\\n\t 536365 & 71053  & WHITE METAL LANTERN                 & 6 & 2010-12-01 08:26:00 & 3.39 & 17850 & United Kingdom\\\\\n\t 536365 & 84406B & CREAM CUPID HEARTS COAT HANGER      & 8 & 2010-12-01 08:26:00 & 2.75 & 17850 & United Kingdom\\\\\n\t 536365 & 84029G & KNITTED UNION FLAG HOT WATER BOTTLE & 6 & 2010-12-01 08:26:00 & 3.39 & 17850 & United Kingdom\\\\\n\t 536365 & 84029E & RED WOOLLY HOTTIE WHITE HEART.      & 6 & 2010-12-01 08:26:00 & 3.39 & 17850 & United Kingdom\\\\\n\t 536365 & 22752  & SET 7 BABUSHKA NESTING BOXES        & 2 & 2010-12-01 08:26:00 & 7.65 & 17850 & United Kingdom\\\\\n\\end{tabular}\n",
            "text/plain": [
              "  InvoiceNo StockCode Description                         Quantity\n",
              "1 536365    85123A    WHITE HANGING HEART T-LIGHT HOLDER  6       \n",
              "2 536365    71053     WHITE METAL LANTERN                 6       \n",
              "3 536365    84406B    CREAM CUPID HEARTS COAT HANGER      8       \n",
              "4 536365    84029G    KNITTED UNION FLAG HOT WATER BOTTLE 6       \n",
              "5 536365    84029E    RED WOOLLY HOTTIE WHITE HEART.      6       \n",
              "6 536365    22752     SET 7 BABUSHKA NESTING BOXES        2       \n",
              "  InvoiceDate         UnitPrice CustomerID Country       \n",
              "1 2010-12-01 08:26:00 2.55      17850      United Kingdom\n",
              "2 2010-12-01 08:26:00 3.39      17850      United Kingdom\n",
              "3 2010-12-01 08:26:00 2.75      17850      United Kingdom\n",
              "4 2010-12-01 08:26:00 3.39      17850      United Kingdom\n",
              "5 2010-12-01 08:26:00 3.39      17850      United Kingdom\n",
              "6 2010-12-01 08:26:00 7.65      17850      United Kingdom"
            ]
          },
          "metadata": {}
        },
        {
          "output_type": "stream",
          "name": "stdout",
          "text": [
            "tibble [541,909 × 8] (S3: tbl_df/tbl/data.frame)\n",
            " $ InvoiceNo  : chr [1:541909] \"536365\" \"536365\" \"536365\" \"536365\" ...\n",
            " $ StockCode  : chr [1:541909] \"85123A\" \"71053\" \"84406B\" \"84029G\" ...\n",
            " $ Description: chr [1:541909] \"WHITE HANGING HEART T-LIGHT HOLDER\" \"WHITE METAL LANTERN\" \"CREAM CUPID HEARTS COAT HANGER\" \"KNITTED UNION FLAG HOT WATER BOTTLE\" ...\n",
            " $ Quantity   : num [1:541909] 6 6 8 6 6 2 6 6 6 32 ...\n",
            " $ InvoiceDate: POSIXct[1:541909], format: \"2010-12-01 08:26:00\" \"2010-12-01 08:26:00\" ...\n",
            " $ UnitPrice  : num [1:541909] 2.55 3.39 2.75 3.39 3.39 7.65 4.25 1.85 1.85 1.69 ...\n",
            " $ CustomerID : num [1:541909] 17850 17850 17850 17850 17850 ...\n",
            " $ Country    : chr [1:541909] \"United Kingdom\" \"United Kingdom\" \"United Kingdom\" \"United Kingdom\" ...\n"
          ]
        },
        {
          "output_type": "display_data",
          "data": {
            "text/plain": [
              "  InvoiceNo          StockCode         Description           Quantity         \n",
              " Length:541909      Length:541909      Length:541909      Min.   :-80995.000  \n",
              " Class :character   Class :character   Class :character   1st Qu.:     1.000  \n",
              " Mode  :character   Mode  :character   Mode  :character   Median :     3.000  \n",
              "                                                          Mean   :     9.552  \n",
              "                                                          3rd Qu.:    10.000  \n",
              "                                                          Max.   : 80995.000  \n",
              "                                                                              \n",
              "  InvoiceDate                    UnitPrice            CustomerID    \n",
              " Min.   :2010-12-01 08:26:00   Min.   :-11062.060   Min.   :12346   \n",
              " 1st Qu.:2011-03-28 11:34:00   1st Qu.:     1.250   1st Qu.:13953   \n",
              " Median :2011-07-19 17:17:00   Median :     2.080   Median :15152   \n",
              " Mean   :2011-07-04 13:34:57   Mean   :     4.611   Mean   :15288   \n",
              " 3rd Qu.:2011-10-19 11:27:00   3rd Qu.:     4.130   3rd Qu.:16791   \n",
              " Max.   :2011-12-09 12:50:00   Max.   : 38970.000   Max.   :18287   \n",
              "                                                    NA's   :135080  \n",
              "   Country         \n",
              " Length:541909     \n",
              " Class :character  \n",
              " Mode  :character  \n",
              "                   \n",
              "                   \n",
              "                   \n",
              "                   "
            ]
          },
          "metadata": {}
        },
        {
          "output_type": "display_data",
          "data": {
            "text/html": [
              "136534"
            ],
            "text/markdown": "136534",
            "text/latex": "136534",
            "text/plain": [
              "[1] 136534"
            ]
          },
          "metadata": {}
        }
      ]
    },
    {
      "cell_type": "markdown",
      "source": [
        "Data Preparation and Feature Engineering"
      ],
      "metadata": {
        "id": "s8pgvKs2R4eU"
      }
    },
    {
      "cell_type": "code",
      "source": [
        "# Clean up data (remove rows with missing CustomerID, negative Quantity, etc.)\n",
        "online_retail_cleaned <- online_retail %>%\n",
        "  filter(!is.na(CustomerID), Quantity > 0, UnitPrice > 0)\n",
        "\n",
        "# Calculate Monetary Value for each transaction\n",
        "online_retail_cleaned <- online_retail_cleaned %>%\n",
        "  mutate(TotalPrice = Quantity * UnitPrice)\n",
        "\n",
        "# Aggregate data to customer level to create RFM features\n",
        "customer_data <- online_retail_cleaned %>%\n",
        "  group_by(CustomerID) %>%\n",
        "  summarise(\n",
        "    Recency = as.numeric(Sys.Date() - max(InvoiceDate)),\n",
        "    Frequency = n_distinct(InvoiceNo),\n",
        "    MonetaryValue = sum(TotalPrice)\n",
        "  )"
      ],
      "metadata": {
        "colab": {
          "base_uri": "https://localhost:8080/"
        },
        "id": "5hAI1V-CR8PK",
        "outputId": "2fc297c9-5d11-4e7f-d88b-e7937150e1f0"
      },
      "execution_count": 4,
      "outputs": [
        {
          "output_type": "stream",
          "name": "stderr",
          "text": [
            "Warning message:\n",
            "“\u001b[1m\u001b[22mThere were 4338 warnings in `summarise()`.\n",
            "The first warning was:\n",
            "\u001b[1m\u001b[22m\u001b[36mℹ\u001b[39m In argument: `Recency = as.numeric(Sys.Date() - max(InvoiceDate))`.\n",
            "\u001b[36mℹ\u001b[39m In group 1: `CustomerID = 12346`.\n",
            "Caused by warning:\n",
            "\u001b[33m!\u001b[39m Incompatible methods (\"-.Date\", \"-.POSIXt\") for \"-\"\n",
            "\u001b[1m\u001b[22m\u001b[36mℹ\u001b[39m Run `dplyr::last_dplyr_warnings()` to see the 4337 remaining warnings.”\n"
          ]
        }
      ]
    },
    {
      "cell_type": "code",
      "source": [
        "# --- Handle Missing Values (If any after cleaning) ---\n",
        "customer_data <- na.omit(customer_data)\n",
        "# --- Scale the Data ---\n",
        "customer_data_scaled <- customer_data %>%\n",
        "  select(Recency, Frequency, MonetaryValue) %>%\n",
        "  scale()"
      ],
      "metadata": {
        "id": "Z7EtlUclSZJB"
      },
      "execution_count": 8,
      "outputs": []
    },
    {
      "cell_type": "code",
      "source": [
        "# --- Determine the Optimal Number of Clusters (Elbow Method) ---\n",
        "set.seed(123) # For reproducibility\n",
        "wss <- 1:10 %>%\n",
        "  map(function(k){\n",
        "    kmeans(customer_data_scaled, k, nstart=10)$tot.withinss\n",
        "  })\n",
        "\n",
        "plot(1:10, wss, type=\"b\", pch=19, frame=FALSE,\n",
        "     xlab=\"Number of clusters K\",\n",
        "     ylab=\"Total within-clusters sum of squares\")\n",
        "abline(v = 3, lty =2) # Example: visually identify a potential elbow"
      ],
      "metadata": {
        "colab": {
          "base_uri": "https://localhost:8080/",
          "height": 437
        },
        "id": "-PhK4G4eSp4K",
        "outputId": "9d080e0c-86ad-4a79-ccae-fe4f4f126b0a"
      },
      "execution_count": 11,
      "outputs": [
        {
          "output_type": "display_data",
          "data": {
            "text/plain": [
              "plot without title"
            ],
            "image/png": "[encoded data removed]"
          },
          "metadata": {
            "image/png": {
              "width": 420,
              "height": 420
            }
          }
        }
      ]
    },
    {
      "cell_type": "markdown",
      "source": [
        "K-Means Clustering"
      ],
      "metadata": {
        "id": "sdk4ALdZTLhG"
      }
    },
    {
      "cell_type": "code",
      "source": [
        "k <- 3 # Based on the elbow method (you might choose a different value)\n",
        "kmeans_model <- kmeans(customer_data_scaled, centers = k, nstart = 25)\n",
        "\n",
        "# Assign cluster labels to customer data\n",
        "customer_segments <- customer_data %>%\n",
        "  mutate(Cluster = kmeans_model$cluster)\n",
        "\n",
        "# --- Analyze the Clusters ---\n",
        "customer_segments %>%\n",
        "  group_by(Cluster) %>%\n",
        "  summarise(\n",
        "    AvgRecency = mean(Recency),\n",
        "    AvgFrequency = mean(Frequency),\n",
        "    AvgMonetaryValue = mean(MonetaryValue),\n",
        "    Count = n()\n",
        "  )\n",
        "\n",
        "# You can further analyze the characteristics of each cluster\n",
        "# (e.g., visualize the distributions of RFM features per cluster)."
      ],
      "metadata": {
        "colab": {
          "base_uri": "https://localhost:8080/",
          "height": 192
        },
        "id": "lAUGg1_mTQ64",
        "outputId": "3a913604-2cf7-418f-aef8-810551e08e14"
      },
      "execution_count": 12,
      "outputs": [
        {
          "output_type": "display_data",
          "data": {
            "text/html": [
              "<table class=\"dataframe\">\n",
              "<caption>A tibble: 3 × 5</caption>\n",
              "<thead>\n",
              "\t<tr><th scope=col>Cluster</th><th scope=col>AvgRecency</th><th scope=col>AvgFrequency</th><th scope=col>AvgMonetaryValue</th><th scope=col>Count</th></tr>\n",
              "\t<tr><th scope=col>&lt;int&gt;</th><th scope=col>&lt;dbl&gt;</th><th scope=col>&lt;dbl&gt;</th><th scope=col>&lt;dbl&gt;</th><th scope=col>&lt;int&gt;</th></tr>\n",
              "</thead>\n",
              "<tbody>\n",
              "\t<tr><td>1</td><td>-1319888020</td><td> 4.677829</td><td> 1857.7458</td><td>3225</td></tr>\n",
              "\t<tr><td>2</td><td>-1322942981</td><td>66.423077</td><td>85904.3515</td><td>  26</td></tr>\n",
              "\t<tr><td>3</td><td>-1302150454</td><td> 1.581417</td><td>  631.7062</td><td>1087</td></tr>\n",
              "</tbody>\n",
              "</table>\n"
            ],
            "text/markdown": "\nA tibble: 3 × 5\n\n| Cluster &lt;int&gt; | AvgRecency &lt;dbl&gt; | AvgFrequency &lt;dbl&gt; | AvgMonetaryValue &lt;dbl&gt; | Count &lt;int&gt; |\n|---|---|---|---|---|\n| 1 | -1319888020 |  4.677829 |  1857.7458 | 3225 |\n| 2 | -1322942981 | 66.423077 | 85904.3515 |   26 |\n| 3 | -1302150454 |  1.581417 |   631.7062 | 1087 |\n\n",
            "text/latex": "A tibble: 3 × 5\n\\begin{tabular}{lllll}\n Cluster & AvgRecency & AvgFrequency & AvgMonetaryValue & Count\\\\\n <int> & <dbl> & <dbl> & <dbl> & <int>\\\\\n\\hline\n\t 1 & -1319888020 &  4.677829 &  1857.7458 & 3225\\\\\n\t 2 & -1322942981 & 66.423077 & 85904.3515 &   26\\\\\n\t 3 & -1302150454 &  1.581417 &   631.7062 & 1087\\\\\n\\end{tabular}\n",
            "text/plain": [
              "  Cluster AvgRecency  AvgFrequency AvgMonetaryValue Count\n",
              "1 1       -1319888020  4.677829     1857.7458       3225 \n",
              "2 2       -1322942981 66.423077    85904.3515         26 \n",
              "3 3       -1302150454  1.581417      631.7062       1087 "
            ]
          },
          "metadata": {}
        }
      ]
    },
    {
      "cell_type": "markdown",
      "source": [
        "Visualizing Clusters\n"
      ],
      "metadata": {
        "id": "oO_7XuKhUC3l"
      }
    },
    {
      "cell_type": "code",
      "source": [
        "if (nrow(customer_data_scaled) > 0) {\n",
        "  plot_data <- as.data.frame(customer_data_scaled) %>%\n",
        "    mutate(Cluster = as.factor(kmeans_model$cluster))\n",
        "  if (nrow(plot_data) > 0) {\n",
        "    pairs(plot_data[, 1:3], col = plot_data$Cluster, pch = 16)\n",
        "  } else {\n",
        "    print(\"Warning: No data available for visualization.\")\n",
        "  }\n",
        "} else {\n",
        "  print(\"Warning: Scaled data is empty, cannot visualize.\")\n",
        "}\n"
      ],
      "metadata": {
        "colab": {
          "base_uri": "https://localhost:8080/",
          "height": 437
        },
        "id": "LlpR0jU-UMs9",
        "outputId": "91158986-4462-42c1-f756-76d4f03c1dae"
      },
      "execution_count": 13,
      "outputs": [
        {
          "output_type": "display_data",
          "data": {
            "text/plain": [
              "plot without title"
            ],
            "image/png": "[encoded data removed]"
          },
          "metadata": {
            "image/png": {
              "width": 420,
              "height": 420
            }
          }
        }
      ]
    }
  ]
}